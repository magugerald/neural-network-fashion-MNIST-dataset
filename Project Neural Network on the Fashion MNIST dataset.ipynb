{
 "cells": [
  {
   "cell_type": "markdown",
   "metadata": {},
   "source": [
    "# Neural Network on the Fashion MNIST dataset"
   ]
  },
  {
   "cell_type": "markdown",
   "metadata": {},
   "source": [
    "This project involves creating and understanding a neural network on the Fashion MNIST dataset. The project explores the intricate relationship between neural network parameters and architecture, emphasizing how they influence each other's impact. By developing a neural network model and interacting with various hyperparameters, such as optimizers, the number of neurons in layers, and learning rates, the project delves into the complexities of model performance. The optimizers - SGD, RMSprop, and Adam - are evaluated with distinct accuracy outcomes, revealing Adam as the optimal choice. Manipulating the number of neurons in layers demonstrates a direct correlation between neuron count and accuracy increase. Similarly, adjusting the learning rate shows that an optimal rate leads to accuracy improvement, but exceeding that threshold does not yield further gains. The final average accuracy across different configurations is calculated at 85.78%, underscoring the project's successful exploration of neural network intricacies on the Fashion MNIST dataset."
   ]
  },
  {
   "cell_type": "code",
   "execution_count": 1,
   "metadata": {
    "colab": {
     "base_uri": "https://localhost:8080/",
     "height": 36
    },
    "id": "S_kjO0xQ94nV",
    "outputId": "86656e42-9e65-42fa-fcef-dededb061f77"
   },
   "outputs": [
    {
     "data": {
      "text/plain": [
       "'2.8.0'"
      ]
     },
     "execution_count": 1,
     "metadata": {},
     "output_type": "execute_result"
    }
   ],
   "source": [
    "# importing tensorflow and keras libraries\n",
    "from tensorflow import keras\n",
    "import tensorflow as tf\n",
    "tf.__version__\n",
    "keras.__version__"
   ]
  },
  {
   "cell_type": "code",
   "execution_count": 2,
   "metadata": {
    "colab": {
     "base_uri": "https://localhost:8080/"
    },
    "id": "xDrqlCAu99fG",
    "outputId": "b91188c8-d999-49dc-b9fc-55ba1c1d57f2"
   },
   "outputs": [],
   "source": [
    "# loading the data\n",
    "fashion_mnist = keras.datasets.fashion_mnist\n",
    "(X_train_full, y_train_full), (X_test, y_test) = fashion_mnist.load_data()"
   ]
  },
  {
   "cell_type": "code",
   "execution_count": 3,
   "metadata": {
    "colab": {
     "base_uri": "https://localhost:8080/"
    },
    "id": "w12AR46U-DV1",
    "outputId": "2369c087-c963-4860-f009-611044b93b78"
   },
   "outputs": [
    {
     "data": {
      "text/plain": [
       "(60000, 28, 28)"
      ]
     },
     "execution_count": 3,
     "metadata": {},
     "output_type": "execute_result"
    }
   ],
   "source": [
    "#Observing the shape of the data\n",
    "X_train_full.shape"
   ]
  },
  {
   "cell_type": "code",
   "execution_count": 4,
   "metadata": {
    "id": "76k8x8O9-UTw"
   },
   "outputs": [],
   "source": [
    "# Splitting the data into training, validating and testing variables\n",
    "X_valid, X_train = X_train_full[:5000] / 255.0, X_train_full[5000:] / 255.0\n",
    "y_valid, y_train = y_train_full[:5000], y_train_full[5000:]"
   ]
  },
  {
   "cell_type": "code",
   "execution_count": 6,
   "metadata": {},
   "outputs": [],
   "source": [
    "class_names = [\"T-shirt/top\", \"Trouser\", \"Pullover\", \"Dress\", \"Coat\",\n",
    "\"Sandal\", \"Shirt\", \"Sneaker\", \"Bag\", \"Ankle boot\"]"
   ]
  },
  {
   "cell_type": "code",
   "execution_count": 7,
   "metadata": {
    "colab": {
     "base_uri": "https://localhost:8080/",
     "height": 36
    },
    "id": "rXdf2ahQ-iyL",
    "outputId": "bc32fb0e-a4f3-45b8-8f67-603308196816"
   },
   "outputs": [
    {
     "data": {
      "text/plain": [
       "'Coat'"
      ]
     },
     "execution_count": 7,
     "metadata": {},
     "output_type": "execute_result"
    }
   ],
   "source": [
    "class_names[y_train[0]]"
   ]
  },
  {
   "cell_type": "markdown",
   "metadata": {
    "id": "044_DyN1-ZBI"
   },
   "source": [
    "# Model"
   ]
  },
  {
   "cell_type": "code",
   "execution_count": 39,
   "metadata": {
    "id": "eY4e-x2V-o8s"
   },
   "outputs": [],
   "source": [
    "model = keras.models.Sequential()\n",
    "model.add(keras.layers.Flatten(input_shape=[28, 28]))\n",
    "model.add(keras.layers.Dense(300, activation=\"relu\"))\n",
    "model.add(keras.layers.Dense(100, activation=\"relu\"))\n",
    "model.add(keras.layers.Dense(10, activation=\"softmax\"))"
   ]
  },
  {
   "cell_type": "code",
   "execution_count": 40,
   "metadata": {},
   "outputs": [],
   "source": [
    "model.compile(loss=\"sparse_categorical_crossentropy\", optimizer=\"sgd\", metrics=[\"accuracy\"])"
   ]
  },
  {
   "cell_type": "code",
   "execution_count": 41,
   "metadata": {},
   "outputs": [
    {
     "name": "stdout",
     "output_type": "stream",
     "text": [
      "Model: \"sequential_5\"\n",
      "_________________________________________________________________\n",
      " Layer (type)                Output Shape              Param #   \n",
      "=================================================================\n",
      " flatten_5 (Flatten)         (None, 784)               0         \n",
      "                                                                 \n",
      " dense_15 (Dense)            (None, 300)               235500    \n",
      "                                                                 \n",
      " dense_16 (Dense)            (None, 100)               30100     \n",
      "                                                                 \n",
      " dense_17 (Dense)            (None, 10)                1010      \n",
      "                                                                 \n",
      "=================================================================\n",
      "Total params: 266,610\n",
      "Trainable params: 266,610\n",
      "Non-trainable params: 0\n",
      "_________________________________________________________________\n"
     ]
    }
   ],
   "source": [
    "model.summary() "
   ]
  },
  {
   "cell_type": "code",
   "execution_count": 42,
   "metadata": {},
   "outputs": [
    {
     "name": "stdout",
     "output_type": "stream",
     "text": [
      "Epoch 1/20\n",
      "1719/1719 [==============================] - 7s 4ms/step - loss: 0.7331 - accuracy: 0.7635 - val_loss: 0.5031 - val_accuracy: 0.8336\n",
      "Epoch 2/20\n",
      "1719/1719 [==============================] - 6s 4ms/step - loss: 0.4886 - accuracy: 0.8305 - val_loss: 0.4737 - val_accuracy: 0.8428\n",
      "Epoch 3/20\n",
      "1719/1719 [==============================] - 7s 4ms/step - loss: 0.4425 - accuracy: 0.8445 - val_loss: 0.4077 - val_accuracy: 0.8606\n",
      "Epoch 4/20\n",
      "1719/1719 [==============================] - 8s 5ms/step - loss: 0.4140 - accuracy: 0.8546 - val_loss: 0.4625 - val_accuracy: 0.8294\n",
      "Epoch 5/20\n",
      "1719/1719 [==============================] - 9s 5ms/step - loss: 0.3943 - accuracy: 0.8613 - val_loss: 0.4147 - val_accuracy: 0.8544\n",
      "Epoch 6/20\n",
      "1719/1719 [==============================] - 8s 4ms/step - loss: 0.3775 - accuracy: 0.8670 - val_loss: 0.3890 - val_accuracy: 0.8610\n",
      "Epoch 7/20\n",
      "1719/1719 [==============================] - 7s 4ms/step - loss: 0.3653 - accuracy: 0.8700 - val_loss: 0.3565 - val_accuracy: 0.8752\n",
      "Epoch 8/20\n",
      "1719/1719 [==============================] - 7s 4ms/step - loss: 0.3521 - accuracy: 0.8747 - val_loss: 0.3641 - val_accuracy: 0.8712\n",
      "Epoch 9/20\n",
      "1719/1719 [==============================] - 7s 4ms/step - loss: 0.3419 - accuracy: 0.8788 - val_loss: 0.3460 - val_accuracy: 0.8774\n",
      "Epoch 10/20\n",
      "1719/1719 [==============================] - 8s 5ms/step - loss: 0.3327 - accuracy: 0.8815 - val_loss: 0.3396 - val_accuracy: 0.8780\n",
      "Epoch 11/20\n",
      "1719/1719 [==============================] - 6s 3ms/step - loss: 0.3241 - accuracy: 0.8849 - val_loss: 0.3538 - val_accuracy: 0.8766\n",
      "Epoch 12/20\n",
      "1719/1719 [==============================] - 6s 3ms/step - loss: 0.3161 - accuracy: 0.8861 - val_loss: 0.3323 - val_accuracy: 0.8824\n",
      "Epoch 13/20\n",
      "1719/1719 [==============================] - 6s 3ms/step - loss: 0.3086 - accuracy: 0.8900 - val_loss: 0.3380 - val_accuracy: 0.8808\n",
      "Epoch 14/20\n",
      "1719/1719 [==============================] - 5s 3ms/step - loss: 0.3021 - accuracy: 0.8910 - val_loss: 0.3186 - val_accuracy: 0.8840\n",
      "Epoch 15/20\n",
      "1719/1719 [==============================] - 5s 3ms/step - loss: 0.2946 - accuracy: 0.8936 - val_loss: 0.3181 - val_accuracy: 0.8866\n",
      "Epoch 16/20\n",
      "1719/1719 [==============================] - 6s 3ms/step - loss: 0.2901 - accuracy: 0.8954 - val_loss: 0.3162 - val_accuracy: 0.8886\n",
      "Epoch 17/20\n",
      "1719/1719 [==============================] - 5s 3ms/step - loss: 0.2838 - accuracy: 0.8974 - val_loss: 0.3053 - val_accuracy: 0.8928\n",
      "Epoch 18/20\n",
      "1719/1719 [==============================] - 6s 3ms/step - loss: 0.2773 - accuracy: 0.8999 - val_loss: 0.3187 - val_accuracy: 0.8870\n",
      "Epoch 19/20\n",
      "1719/1719 [==============================] - 5s 3ms/step - loss: 0.2730 - accuracy: 0.9007 - val_loss: 0.3192 - val_accuracy: 0.8854\n",
      "Epoch 20/20\n",
      "1719/1719 [==============================] - 5s 3ms/step - loss: 0.2678 - accuracy: 0.9035 - val_loss: 0.3106 - val_accuracy: 0.8902\n"
     ]
    }
   ],
   "source": [
    "history = model.fit(X_train, y_train, epochs=20, validation_data=(X_valid, y_valid))"
   ]
  },
  {
   "cell_type": "code",
   "execution_count": 43,
   "metadata": {},
   "outputs": [
    {
     "name": "stdout",
     "output_type": "stream",
     "text": [
      "313/313 [==============================] - 1s 2ms/step - loss: 71.6072 - accuracy: 0.8231\n"
     ]
    },
    {
     "data": {
      "text/plain": [
       "[71.60721588134766, 0.8230999708175659]"
      ]
     },
     "execution_count": 43,
     "metadata": {},
     "output_type": "execute_result"
    }
   ],
   "source": [
    "model.evaluate(X_test, y_test)"
   ]
  },
  {
   "cell_type": "markdown",
   "metadata": {},
   "source": [
    "## Section 1 (1st Commitee)"
   ]
  },
  {
   "cell_type": "markdown",
   "metadata": {},
   "source": [
    "### Part 1"
   ]
  },
  {
   "cell_type": "markdown",
   "metadata": {},
   "source": [
    "#### Changing the optimizer"
   ]
  },
  {
   "cell_type": "code",
   "execution_count": 44,
   "metadata": {},
   "outputs": [],
   "source": [
    "model = keras.models.Sequential()\n",
    "model.add(keras.layers.Flatten(input_shape=[28, 28]))\n",
    "model.add(keras.layers.Dense(300, activation=\"relu\"))\n",
    "model.add(keras.layers.Dense(100, activation=\"relu\"))\n",
    "model.add(keras.layers.Dense(10, activation=\"softmax\"))"
   ]
  },
  {
   "cell_type": "code",
   "execution_count": 45,
   "metadata": {},
   "outputs": [
    {
     "name": "stdout",
     "output_type": "stream",
     "text": [
      "Model: \"sequential_6\"\n",
      "_________________________________________________________________\n",
      " Layer (type)                Output Shape              Param #   \n",
      "=================================================================\n",
      " flatten_6 (Flatten)         (None, 784)               0         \n",
      "                                                                 \n",
      " dense_18 (Dense)            (None, 300)               235500    \n",
      "                                                                 \n",
      " dense_19 (Dense)            (None, 100)               30100     \n",
      "                                                                 \n",
      " dense_20 (Dense)            (None, 10)                1010      \n",
      "                                                                 \n",
      "=================================================================\n",
      "Total params: 266,610\n",
      "Trainable params: 266,610\n",
      "Non-trainable params: 0\n",
      "_________________________________________________________________\n"
     ]
    }
   ],
   "source": [
    "model.summary() "
   ]
  },
  {
   "cell_type": "markdown",
   "metadata": {},
   "source": [
    "#### Using the 'Adam' optimizer"
   ]
  },
  {
   "cell_type": "code",
   "execution_count": 46,
   "metadata": {},
   "outputs": [],
   "source": [
    "# Using the 'Adam' optimizer\n",
    "model.compile(loss=\"sparse_categorical_crossentropy\", optimizer=\"Adam\", metrics=[\"accuracy\"])"
   ]
  },
  {
   "cell_type": "code",
   "execution_count": 47,
   "metadata": {},
   "outputs": [
    {
     "name": "stdout",
     "output_type": "stream",
     "text": [
      "Epoch 1/20\n",
      "1719/1719 [==============================] - 6s 3ms/step - loss: 0.4849 - accuracy: 0.8269 - val_loss: 0.3744 - val_accuracy: 0.8630\n",
      "Epoch 2/20\n",
      "1719/1719 [==============================] - 6s 3ms/step - loss: 0.3648 - accuracy: 0.8665 - val_loss: 0.3393 - val_accuracy: 0.8782\n",
      "Epoch 3/20\n",
      "1719/1719 [==============================] - 6s 3ms/step - loss: 0.3281 - accuracy: 0.8785 - val_loss: 0.3375 - val_accuracy: 0.8802\n",
      "Epoch 4/20\n",
      "1719/1719 [==============================] - 6s 3ms/step - loss: 0.3062 - accuracy: 0.8865 - val_loss: 0.3159 - val_accuracy: 0.8850\n",
      "Epoch 5/20\n",
      "1719/1719 [==============================] - 5s 3ms/step - loss: 0.2866 - accuracy: 0.8939 - val_loss: 0.3273 - val_accuracy: 0.8854\n",
      "Epoch 6/20\n",
      "1719/1719 [==============================] - 6s 3ms/step - loss: 0.2707 - accuracy: 0.8972 - val_loss: 0.3059 - val_accuracy: 0.8920\n",
      "Epoch 7/20\n",
      "1719/1719 [==============================] - 6s 4ms/step - loss: 0.2590 - accuracy: 0.9033 - val_loss: 0.3203 - val_accuracy: 0.8882\n",
      "Epoch 8/20\n",
      "1719/1719 [==============================] - 7s 4ms/step - loss: 0.2456 - accuracy: 0.9077 - val_loss: 0.3013 - val_accuracy: 0.8900\n",
      "Epoch 9/20\n",
      "1719/1719 [==============================] - 7s 4ms/step - loss: 0.2388 - accuracy: 0.9096 - val_loss: 0.3033 - val_accuracy: 0.8956\n",
      "Epoch 10/20\n",
      "1719/1719 [==============================] - 7s 4ms/step - loss: 0.2277 - accuracy: 0.9132 - val_loss: 0.3071 - val_accuracy: 0.8898\n",
      "Epoch 11/20\n",
      "1719/1719 [==============================] - 7s 4ms/step - loss: 0.2182 - accuracy: 0.9173 - val_loss: 0.2997 - val_accuracy: 0.8928\n",
      "Epoch 12/20\n",
      "1719/1719 [==============================] - 6s 4ms/step - loss: 0.2130 - accuracy: 0.9180 - val_loss: 0.3223 - val_accuracy: 0.8938\n",
      "Epoch 13/20\n",
      "1719/1719 [==============================] - 7s 4ms/step - loss: 0.2051 - accuracy: 0.9209 - val_loss: 0.3017 - val_accuracy: 0.9000\n",
      "Epoch 14/20\n",
      "1719/1719 [==============================] - 7s 4ms/step - loss: 0.1970 - accuracy: 0.9246 - val_loss: 0.3148 - val_accuracy: 0.8976\n",
      "Epoch 15/20\n",
      "1719/1719 [==============================] - 7s 4ms/step - loss: 0.1915 - accuracy: 0.9260 - val_loss: 0.3144 - val_accuracy: 0.8968\n",
      "Epoch 16/20\n",
      "1719/1719 [==============================] - 7s 4ms/step - loss: 0.1823 - accuracy: 0.9311 - val_loss: 0.3442 - val_accuracy: 0.9010\n",
      "Epoch 17/20\n",
      "1719/1719 [==============================] - 7s 4ms/step - loss: 0.1791 - accuracy: 0.9314 - val_loss: 0.3602 - val_accuracy: 0.8948\n",
      "Epoch 18/20\n",
      "1719/1719 [==============================] - 7s 4ms/step - loss: 0.1741 - accuracy: 0.9333 - val_loss: 0.3517 - val_accuracy: 0.8992\n",
      "Epoch 19/20\n",
      "1719/1719 [==============================] - 7s 4ms/step - loss: 0.1663 - accuracy: 0.9361 - val_loss: 0.3821 - val_accuracy: 0.8922\n",
      "Epoch 20/20\n",
      "1719/1719 [==============================] - 7s 4ms/step - loss: 0.1626 - accuracy: 0.9376 - val_loss: 0.3482 - val_accuracy: 0.9006\n"
     ]
    }
   ],
   "source": [
    "history = model.fit(X_train, y_train, epochs=20, validation_data=(X_valid, y_valid))"
   ]
  },
  {
   "cell_type": "code",
   "execution_count": 48,
   "metadata": {},
   "outputs": [
    {
     "name": "stdout",
     "output_type": "stream",
     "text": [
      "313/313 [==============================] - 1s 2ms/step - loss: 75.8085 - accuracy: 0.8714\n"
     ]
    },
    {
     "data": {
      "text/plain": [
       "[75.80850982666016, 0.871399998664856]"
      ]
     },
     "execution_count": 48,
     "metadata": {},
     "output_type": "execute_result"
    }
   ],
   "source": [
    "model.evaluate(X_test, y_test)"
   ]
  },
  {
   "cell_type": "markdown",
   "metadata": {},
   "source": [
    "#### Using the 'RMSprop' optimizer"
   ]
  },
  {
   "cell_type": "code",
   "execution_count": 49,
   "metadata": {},
   "outputs": [],
   "source": [
    "# Using the 'RMSprop' optimizer\n",
    "model.compile(loss=\"sparse_categorical_crossentropy\", optimizer=\"RMSprop\", metrics=[\"accuracy\"])"
   ]
  },
  {
   "cell_type": "code",
   "execution_count": 50,
   "metadata": {},
   "outputs": [
    {
     "name": "stdout",
     "output_type": "stream",
     "text": [
      "Epoch 1/20\n",
      "1719/1719 [==============================] - 6s 4ms/step - loss: 0.1660 - accuracy: 0.9380 - val_loss: 0.4408 - val_accuracy: 0.9004\n",
      "Epoch 2/20\n",
      "1719/1719 [==============================] - 6s 3ms/step - loss: 0.1752 - accuracy: 0.9373 - val_loss: 0.4810 - val_accuracy: 0.8918\n",
      "Epoch 3/20\n",
      "1719/1719 [==============================] - 8s 4ms/step - loss: 0.1817 - accuracy: 0.9367 - val_loss: 0.5547 - val_accuracy: 0.8954\n",
      "Epoch 4/20\n",
      "1719/1719 [==============================] - 7s 4ms/step - loss: 0.1885 - accuracy: 0.9349 - val_loss: 0.5446 - val_accuracy: 0.8984\n",
      "Epoch 5/20\n",
      "1719/1719 [==============================] - 7s 4ms/step - loss: 0.1934 - accuracy: 0.9349 - val_loss: 0.5936 - val_accuracy: 0.8878\n",
      "Epoch 6/20\n",
      "1719/1719 [==============================] - 7s 4ms/step - loss: 0.1966 - accuracy: 0.9332 - val_loss: 0.6608 - val_accuracy: 0.8990\n",
      "Epoch 7/20\n",
      "1719/1719 [==============================] - 8s 4ms/step - loss: 0.2033 - accuracy: 0.9324 - val_loss: 0.6102 - val_accuracy: 0.8922\n",
      "Epoch 8/20\n",
      "1719/1719 [==============================] - 7s 4ms/step - loss: 0.2005 - accuracy: 0.9333 - val_loss: 0.6740 - val_accuracy: 0.8904\n",
      "Epoch 9/20\n",
      "1719/1719 [==============================] - 7s 4ms/step - loss: 0.2021 - accuracy: 0.9333 - val_loss: 0.6726 - val_accuracy: 0.8960\n",
      "Epoch 10/20\n",
      "1719/1719 [==============================] - 7s 4ms/step - loss: 0.2061 - accuracy: 0.9333 - val_loss: 0.6972 - val_accuracy: 0.8910\n",
      "Epoch 11/20\n",
      "1719/1719 [==============================] - 7s 4ms/step - loss: 0.2059 - accuracy: 0.9332 - val_loss: 0.7238 - val_accuracy: 0.8934\n",
      "Epoch 12/20\n",
      "1719/1719 [==============================] - 7s 4ms/step - loss: 0.2059 - accuracy: 0.9328 - val_loss: 0.6577 - val_accuracy: 0.8932\n",
      "Epoch 13/20\n",
      "1719/1719 [==============================] - 7s 4ms/step - loss: 0.2041 - accuracy: 0.9339 - val_loss: 0.8262 - val_accuracy: 0.8902\n",
      "Epoch 14/20\n",
      "1719/1719 [==============================] - 8s 4ms/step - loss: 0.2050 - accuracy: 0.9324 - val_loss: 0.8016 - val_accuracy: 0.8856\n",
      "Epoch 15/20\n",
      "1719/1719 [==============================] - 7s 4ms/step - loss: 0.2048 - accuracy: 0.9352 - val_loss: 0.9411 - val_accuracy: 0.8768\n",
      "Epoch 16/20\n",
      "1719/1719 [==============================] - 8s 5ms/step - loss: 0.2054 - accuracy: 0.9354 - val_loss: 0.8912 - val_accuracy: 0.8810\n",
      "Epoch 17/20\n",
      "1719/1719 [==============================] - 8s 5ms/step - loss: 0.2111 - accuracy: 0.9351 - val_loss: 0.7660 - val_accuracy: 0.8924\n",
      "Epoch 18/20\n",
      "1719/1719 [==============================] - 8s 5ms/step - loss: 0.2038 - accuracy: 0.9349 - val_loss: 0.9243 - val_accuracy: 0.8866\n",
      "Epoch 19/20\n",
      "1719/1719 [==============================] - 7s 4ms/step - loss: 0.2017 - accuracy: 0.9373 - val_loss: 0.8512 - val_accuracy: 0.8852\n",
      "Epoch 20/20\n",
      "1719/1719 [==============================] - 7s 4ms/step - loss: 0.2094 - accuracy: 0.9352 - val_loss: 0.8791 - val_accuracy: 0.8936\n"
     ]
    }
   ],
   "source": [
    "history = model.fit(X_train, y_train, epochs=20, validation_data=(X_valid, y_valid))"
   ]
  },
  {
   "cell_type": "code",
   "execution_count": 51,
   "metadata": {},
   "outputs": [
    {
     "name": "stdout",
     "output_type": "stream",
     "text": [
      "313/313 [==============================] - 1s 3ms/step - loss: 260.0185 - accuracy: 0.8646\n"
     ]
    },
    {
     "data": {
      "text/plain": [
       "[260.0184631347656, 0.8646000027656555]"
      ]
     },
     "execution_count": 51,
     "metadata": {},
     "output_type": "execute_result"
    }
   ],
   "source": [
    "model.evaluate(X_test, y_test)"
   ]
  },
  {
   "cell_type": "markdown",
   "metadata": {},
   "source": [
    "## Section 2 (2nd Commitee)"
   ]
  },
  {
   "cell_type": "markdown",
   "metadata": {},
   "source": [
    "### Tunning the neurons in the layers "
   ]
  },
  {
   "cell_type": "markdown",
   "metadata": {},
   "source": [
    "### Part 1"
   ]
  },
  {
   "cell_type": "code",
   "execution_count": 64,
   "metadata": {},
   "outputs": [],
   "source": [
    "model = keras.models.Sequential()\n",
    "model.add(keras.layers.Flatten(input_shape=[28, 28]))\n",
    "model.add(keras.layers.Dense(100, activation=\"relu\"))\n",
    "model.add(keras.layers.Dense(50, activation=\"relu\"))\n",
    "model.add(keras.layers.Dense(10, activation=\"softmax\"))"
   ]
  },
  {
   "cell_type": "code",
   "execution_count": 65,
   "metadata": {},
   "outputs": [
    {
     "name": "stdout",
     "output_type": "stream",
     "text": [
      "Model: \"sequential_8\"\n",
      "_________________________________________________________________\n",
      " Layer (type)                Output Shape              Param #   \n",
      "=================================================================\n",
      " flatten_8 (Flatten)         (None, 784)               0         \n",
      "                                                                 \n",
      " dense_24 (Dense)            (None, 100)               78500     \n",
      "                                                                 \n",
      " dense_25 (Dense)            (None, 50)                5050      \n",
      "                                                                 \n",
      " dense_26 (Dense)            (None, 10)                510       \n",
      "                                                                 \n",
      "=================================================================\n",
      "Total params: 84,060\n",
      "Trainable params: 84,060\n",
      "Non-trainable params: 0\n",
      "_________________________________________________________________\n"
     ]
    }
   ],
   "source": [
    "model.summary() "
   ]
  },
  {
   "cell_type": "code",
   "execution_count": 66,
   "metadata": {},
   "outputs": [],
   "source": [
    "model.compile(loss=\"sparse_categorical_crossentropy\", optimizer=\"Adam\", metrics=[\"accuracy\"])"
   ]
  },
  {
   "cell_type": "code",
   "execution_count": 67,
   "metadata": {},
   "outputs": [
    {
     "name": "stdout",
     "output_type": "stream",
     "text": [
      "Epoch 1/20\n",
      "1719/1719 [==============================] - 6s 3ms/step - loss: 0.5074 - accuracy: 0.8197 - val_loss: 0.3818 - val_accuracy: 0.8640\n",
      "Epoch 2/20\n",
      "1719/1719 [==============================] - 5s 3ms/step - loss: 0.3779 - accuracy: 0.8634 - val_loss: 0.3372 - val_accuracy: 0.8780\n",
      "Epoch 3/20\n",
      "1719/1719 [==============================] - 4s 3ms/step - loss: 0.3404 - accuracy: 0.8750 - val_loss: 0.3196 - val_accuracy: 0.8840\n",
      "Epoch 4/20\n",
      "1719/1719 [==============================] - 4s 2ms/step - loss: 0.3163 - accuracy: 0.8822 - val_loss: 0.3179 - val_accuracy: 0.8850\n",
      "Epoch 5/20\n",
      "1719/1719 [==============================] - 4s 3ms/step - loss: 0.2985 - accuracy: 0.8900 - val_loss: 0.3208 - val_accuracy: 0.8850\n",
      "Epoch 6/20\n",
      "1719/1719 [==============================] - 4s 3ms/step - loss: 0.2840 - accuracy: 0.8933 - val_loss: 0.3257 - val_accuracy: 0.8848\n",
      "Epoch 7/20\n",
      "1719/1719 [==============================] - 5s 3ms/step - loss: 0.2729 - accuracy: 0.8973 - val_loss: 0.3126 - val_accuracy: 0.8866\n",
      "Epoch 8/20\n",
      "1719/1719 [==============================] - 5s 3ms/step - loss: 0.2607 - accuracy: 0.9025 - val_loss: 0.3405 - val_accuracy: 0.8772\n",
      "Epoch 9/20\n",
      "1719/1719 [==============================] - 5s 3ms/step - loss: 0.2531 - accuracy: 0.9041 - val_loss: 0.3121 - val_accuracy: 0.8888\n",
      "Epoch 10/20\n",
      "1719/1719 [==============================] - 5s 3ms/step - loss: 0.2426 - accuracy: 0.9079 - val_loss: 0.3249 - val_accuracy: 0.8838\n",
      "Epoch 11/20\n",
      "1719/1719 [==============================] - 5s 3ms/step - loss: 0.2372 - accuracy: 0.9097 - val_loss: 0.3092 - val_accuracy: 0.8910\n",
      "Epoch 12/20\n",
      "1719/1719 [==============================] - 5s 3ms/step - loss: 0.2275 - accuracy: 0.9139 - val_loss: 0.3216 - val_accuracy: 0.8862\n",
      "Epoch 13/20\n",
      "1719/1719 [==============================] - 5s 3ms/step - loss: 0.2212 - accuracy: 0.9160 - val_loss: 0.3266 - val_accuracy: 0.8894\n",
      "Epoch 14/20\n",
      "1719/1719 [==============================] - 6s 3ms/step - loss: 0.2148 - accuracy: 0.9187 - val_loss: 0.3165 - val_accuracy: 0.8934\n",
      "Epoch 15/20\n",
      "1719/1719 [==============================] - 6s 3ms/step - loss: 0.2091 - accuracy: 0.9201 - val_loss: 0.3266 - val_accuracy: 0.8910\n",
      "Epoch 16/20\n",
      "1719/1719 [==============================] - 6s 3ms/step - loss: 0.2045 - accuracy: 0.9214 - val_loss: 0.3062 - val_accuracy: 0.8974\n",
      "Epoch 17/20\n",
      "1719/1719 [==============================] - 5s 3ms/step - loss: 0.1978 - accuracy: 0.9246 - val_loss: 0.3554 - val_accuracy: 0.8858\n",
      "Epoch 18/20\n",
      "1719/1719 [==============================] - 5s 3ms/step - loss: 0.1927 - accuracy: 0.9276 - val_loss: 0.3218 - val_accuracy: 0.8982\n",
      "Epoch 19/20\n",
      "1719/1719 [==============================] - 5s 3ms/step - loss: 0.1883 - accuracy: 0.9280 - val_loss: 0.3322 - val_accuracy: 0.8912\n",
      "Epoch 20/20\n",
      "1719/1719 [==============================] - 5s 3ms/step - loss: 0.1834 - accuracy: 0.9297 - val_loss: 0.3293 - val_accuracy: 0.8960\n"
     ]
    }
   ],
   "source": [
    "history = model.fit(X_train, y_train, epochs=20, validation_data=(X_valid, y_valid))"
   ]
  },
  {
   "cell_type": "code",
   "execution_count": 68,
   "metadata": {},
   "outputs": [
    {
     "name": "stdout",
     "output_type": "stream",
     "text": [
      "313/313 [==============================] - 1s 2ms/step - loss: 78.2515 - accuracy: 0.8426\n"
     ]
    },
    {
     "data": {
      "text/plain": [
       "[78.25151824951172, 0.8425999879837036]"
      ]
     },
     "execution_count": 68,
     "metadata": {},
     "output_type": "execute_result"
    }
   ],
   "source": [
    "model.evaluate(X_test, y_test)"
   ]
  },
  {
   "cell_type": "code",
   "execution_count": null,
   "metadata": {},
   "outputs": [],
   "source": []
  },
  {
   "cell_type": "markdown",
   "metadata": {},
   "source": [
    "### Part 2"
   ]
  },
  {
   "cell_type": "code",
   "execution_count": 69,
   "metadata": {},
   "outputs": [],
   "source": [
    "model = keras.models.Sequential()\n",
    "model.add(keras.layers.Flatten(input_shape=[28, 28]))\n",
    "model.add(keras.layers.Dense(200, activation=\"relu\"))\n",
    "model.add(keras.layers.Dense(100, activation=\"relu\"))\n",
    "model.add(keras.layers.Dense(10, activation=\"softmax\"))"
   ]
  },
  {
   "cell_type": "code",
   "execution_count": 70,
   "metadata": {},
   "outputs": [
    {
     "name": "stdout",
     "output_type": "stream",
     "text": [
      "Model: \"sequential_9\"\n",
      "_________________________________________________________________\n",
      " Layer (type)                Output Shape              Param #   \n",
      "=================================================================\n",
      " flatten_9 (Flatten)         (None, 784)               0         \n",
      "                                                                 \n",
      " dense_27 (Dense)            (None, 200)               157000    \n",
      "                                                                 \n",
      " dense_28 (Dense)            (None, 100)               20100     \n",
      "                                                                 \n",
      " dense_29 (Dense)            (None, 10)                1010      \n",
      "                                                                 \n",
      "=================================================================\n",
      "Total params: 178,110\n",
      "Trainable params: 178,110\n",
      "Non-trainable params: 0\n",
      "_________________________________________________________________\n"
     ]
    }
   ],
   "source": [
    "model.summary() "
   ]
  },
  {
   "cell_type": "code",
   "execution_count": 71,
   "metadata": {},
   "outputs": [],
   "source": [
    "model.compile(loss=\"sparse_categorical_crossentropy\", optimizer=\"Adam\", metrics=[\"accuracy\"])"
   ]
  },
  {
   "cell_type": "code",
   "execution_count": 72,
   "metadata": {},
   "outputs": [
    {
     "name": "stdout",
     "output_type": "stream",
     "text": [
      "Epoch 1/20\n",
      "1719/1719 [==============================] - 5s 3ms/step - loss: 0.4888 - accuracy: 0.8260 - val_loss: 0.3702 - val_accuracy: 0.8704\n",
      "Epoch 2/20\n",
      "1719/1719 [==============================] - 4s 3ms/step - loss: 0.3662 - accuracy: 0.8669 - val_loss: 0.3689 - val_accuracy: 0.8712\n",
      "Epoch 3/20\n",
      "1719/1719 [==============================] - 6s 3ms/step - loss: 0.3306 - accuracy: 0.8778 - val_loss: 0.3251 - val_accuracy: 0.8818\n",
      "Epoch 4/20\n",
      "1719/1719 [==============================] - 5s 3ms/step - loss: 0.3086 - accuracy: 0.8855 - val_loss: 0.3222 - val_accuracy: 0.8816\n",
      "Epoch 5/20\n",
      "1719/1719 [==============================] - 6s 4ms/step - loss: 0.2906 - accuracy: 0.8916 - val_loss: 0.3211 - val_accuracy: 0.8778\n",
      "Epoch 6/20\n",
      "1719/1719 [==============================] - 5s 3ms/step - loss: 0.2751 - accuracy: 0.8979 - val_loss: 0.3026 - val_accuracy: 0.8872\n",
      "Epoch 7/20\n",
      "1719/1719 [==============================] - 5s 3ms/step - loss: 0.2616 - accuracy: 0.9015 - val_loss: 0.3070 - val_accuracy: 0.8914\n",
      "Epoch 8/20\n",
      "1719/1719 [==============================] - 5s 3ms/step - loss: 0.2500 - accuracy: 0.9059 - val_loss: 0.3142 - val_accuracy: 0.8886\n",
      "Epoch 9/20\n",
      "1719/1719 [==============================] - 6s 3ms/step - loss: 0.2396 - accuracy: 0.9089 - val_loss: 0.2973 - val_accuracy: 0.8980\n",
      "Epoch 10/20\n",
      "1719/1719 [==============================] - 6s 3ms/step - loss: 0.2314 - accuracy: 0.9126 - val_loss: 0.3164 - val_accuracy: 0.8826\n",
      "Epoch 11/20\n",
      "1719/1719 [==============================] - 6s 3ms/step - loss: 0.2211 - accuracy: 0.9159 - val_loss: 0.3013 - val_accuracy: 0.8954\n",
      "Epoch 12/20\n",
      "1719/1719 [==============================] - 7s 4ms/step - loss: 0.2127 - accuracy: 0.9190 - val_loss: 0.3105 - val_accuracy: 0.8896\n",
      "Epoch 13/20\n",
      "1719/1719 [==============================] - 6s 3ms/step - loss: 0.2052 - accuracy: 0.9217 - val_loss: 0.3167 - val_accuracy: 0.8906\n",
      "Epoch 14/20\n",
      "1719/1719 [==============================] - 6s 3ms/step - loss: 0.2004 - accuracy: 0.9233 - val_loss: 0.3240 - val_accuracy: 0.8918\n",
      "Epoch 15/20\n",
      "1719/1719 [==============================] - 6s 3ms/step - loss: 0.1917 - accuracy: 0.9271 - val_loss: 0.3191 - val_accuracy: 0.8968\n",
      "Epoch 16/20\n",
      "1719/1719 [==============================] - 6s 3ms/step - loss: 0.1851 - accuracy: 0.9295 - val_loss: 0.3094 - val_accuracy: 0.8954\n",
      "Epoch 17/20\n",
      "1719/1719 [==============================] - 6s 3ms/step - loss: 0.1849 - accuracy: 0.9285 - val_loss: 0.3111 - val_accuracy: 0.9004\n",
      "Epoch 18/20\n",
      "1719/1719 [==============================] - 6s 3ms/step - loss: 0.1761 - accuracy: 0.9324 - val_loss: 0.3176 - val_accuracy: 0.8986\n",
      "Epoch 19/20\n",
      "1719/1719 [==============================] - 6s 3ms/step - loss: 0.1714 - accuracy: 0.9346 - val_loss: 0.3284 - val_accuracy: 0.8984\n",
      "Epoch 20/20\n",
      "1719/1719 [==============================] - 6s 3ms/step - loss: 0.1646 - accuracy: 0.9365 - val_loss: 0.3539 - val_accuracy: 0.8968\n"
     ]
    }
   ],
   "source": [
    "history = model.fit(X_train, y_train, epochs=20, validation_data=(X_valid, y_valid))"
   ]
  },
  {
   "cell_type": "code",
   "execution_count": 73,
   "metadata": {},
   "outputs": [
    {
     "name": "stdout",
     "output_type": "stream",
     "text": [
      "313/313 [==============================] - 1s 2ms/step - loss: 81.7305 - accuracy: 0.8640\n"
     ]
    },
    {
     "data": {
      "text/plain": [
       "[81.73050689697266, 0.8640000224113464]"
      ]
     },
     "execution_count": 73,
     "metadata": {},
     "output_type": "execute_result"
    }
   ],
   "source": [
    "model.evaluate(X_test, y_test)"
   ]
  },
  {
   "cell_type": "code",
   "execution_count": null,
   "metadata": {},
   "outputs": [],
   "source": []
  },
  {
   "cell_type": "markdown",
   "metadata": {},
   "source": [
    "### Part 3"
   ]
  },
  {
   "cell_type": "code",
   "execution_count": 77,
   "metadata": {},
   "outputs": [],
   "source": [
    "model = keras.models.Sequential()\n",
    "model.add(keras.layers.Flatten(input_shape=[28, 28]))\n",
    "model.add(keras.layers.Dense(450, activation=\"relu\"))\n",
    "model.add(keras.layers.Dense(200, activation=\"relu\"))\n",
    "model.add(keras.layers.Dense(10, activation=\"softmax\"))"
   ]
  },
  {
   "cell_type": "code",
   "execution_count": 78,
   "metadata": {},
   "outputs": [
    {
     "name": "stdout",
     "output_type": "stream",
     "text": [
      "Model: \"sequential_11\"\n",
      "_________________________________________________________________\n",
      " Layer (type)                Output Shape              Param #   \n",
      "=================================================================\n",
      " flatten_11 (Flatten)        (None, 784)               0         \n",
      "                                                                 \n",
      " dense_33 (Dense)            (None, 450)               353250    \n",
      "                                                                 \n",
      " dense_34 (Dense)            (None, 200)               90200     \n",
      "                                                                 \n",
      " dense_35 (Dense)            (None, 10)                2010      \n",
      "                                                                 \n",
      "=================================================================\n",
      "Total params: 445,460\n",
      "Trainable params: 445,460\n",
      "Non-trainable params: 0\n",
      "_________________________________________________________________\n"
     ]
    }
   ],
   "source": [
    "model.summary() "
   ]
  },
  {
   "cell_type": "code",
   "execution_count": 79,
   "metadata": {},
   "outputs": [],
   "source": [
    "model.compile(loss=\"sparse_categorical_crossentropy\", optimizer=\"Adam\", metrics=[\"accuracy\"])"
   ]
  },
  {
   "cell_type": "code",
   "execution_count": 80,
   "metadata": {},
   "outputs": [
    {
     "name": "stdout",
     "output_type": "stream",
     "text": [
      "Epoch 1/20\n",
      "1719/1719 [==============================] - 10s 5ms/step - loss: 0.4797 - accuracy: 0.8272 - val_loss: 0.3592 - val_accuracy: 0.8678\n",
      "Epoch 2/20\n",
      "1719/1719 [==============================] - 10s 6ms/step - loss: 0.3575 - accuracy: 0.8681 - val_loss: 0.3512 - val_accuracy: 0.8758\n",
      "Epoch 3/20\n",
      "1719/1719 [==============================] - 9s 5ms/step - loss: 0.3244 - accuracy: 0.8802 - val_loss: 0.3202 - val_accuracy: 0.8820\n",
      "Epoch 4/20\n",
      "1719/1719 [==============================] - 10s 6ms/step - loss: 0.2994 - accuracy: 0.8894 - val_loss: 0.3156 - val_accuracy: 0.8872\n",
      "Epoch 5/20\n",
      "1719/1719 [==============================] - 11s 6ms/step - loss: 0.2820 - accuracy: 0.8944 - val_loss: 0.2973 - val_accuracy: 0.8900\n",
      "Epoch 6/20\n",
      "1719/1719 [==============================] - 10s 6ms/step - loss: 0.2655 - accuracy: 0.9001 - val_loss: 0.3105 - val_accuracy: 0.8884\n",
      "Epoch 7/20\n",
      "1719/1719 [==============================] - 10s 6ms/step - loss: 0.2547 - accuracy: 0.9037 - val_loss: 0.3030 - val_accuracy: 0.8912\n",
      "Epoch 8/20\n",
      "1719/1719 [==============================] - 10s 6ms/step - loss: 0.2418 - accuracy: 0.9067 - val_loss: 0.3225 - val_accuracy: 0.8872\n",
      "Epoch 9/20\n",
      "1719/1719 [==============================] - 11s 6ms/step - loss: 0.2324 - accuracy: 0.9120 - val_loss: 0.3117 - val_accuracy: 0.8922\n",
      "Epoch 10/20\n",
      "1719/1719 [==============================] - 10s 6ms/step - loss: 0.2232 - accuracy: 0.9163 - val_loss: 0.3089 - val_accuracy: 0.8946\n",
      "Epoch 11/20\n",
      "1719/1719 [==============================] - 11s 6ms/step - loss: 0.2157 - accuracy: 0.9172 - val_loss: 0.3044 - val_accuracy: 0.8962\n",
      "Epoch 12/20\n",
      "1719/1719 [==============================] - 11s 7ms/step - loss: 0.2064 - accuracy: 0.9206 - val_loss: 0.3032 - val_accuracy: 0.8974\n",
      "Epoch 13/20\n",
      "1719/1719 [==============================] - 10s 6ms/step - loss: 0.1979 - accuracy: 0.9240 - val_loss: 0.3497 - val_accuracy: 0.8868\n",
      "Epoch 14/20\n",
      "1719/1719 [==============================] - 10s 6ms/step - loss: 0.1925 - accuracy: 0.9264 - val_loss: 0.3438 - val_accuracy: 0.8864\n",
      "Epoch 15/20\n",
      "1719/1719 [==============================] - 11s 6ms/step - loss: 0.1871 - accuracy: 0.9292 - val_loss: 0.3318 - val_accuracy: 0.8992\n",
      "Epoch 16/20\n",
      "1719/1719 [==============================] - 12s 7ms/step - loss: 0.1795 - accuracy: 0.9312 - val_loss: 0.3418 - val_accuracy: 0.8952\n",
      "Epoch 17/20\n",
      "1719/1719 [==============================] - 10s 6ms/step - loss: 0.1742 - accuracy: 0.9327 - val_loss: 0.3673 - val_accuracy: 0.8890\n",
      "Epoch 18/20\n",
      "1719/1719 [==============================] - 10s 6ms/step - loss: 0.1671 - accuracy: 0.9361 - val_loss: 0.3843 - val_accuracy: 0.8902\n",
      "Epoch 19/20\n",
      "1719/1719 [==============================] - 10s 6ms/step - loss: 0.1638 - accuracy: 0.9378 - val_loss: 0.3772 - val_accuracy: 0.8908\n",
      "Epoch 20/20\n",
      "1719/1719 [==============================] - 10s 6ms/step - loss: 0.1585 - accuracy: 0.9386 - val_loss: 0.3615 - val_accuracy: 0.8980\n"
     ]
    }
   ],
   "source": [
    "history = model.fit(X_train, y_train, epochs=20, validation_data=(X_valid, y_valid))"
   ]
  },
  {
   "cell_type": "code",
   "execution_count": 81,
   "metadata": {},
   "outputs": [
    {
     "name": "stdout",
     "output_type": "stream",
     "text": [
      "313/313 [==============================] - 1s 3ms/step - loss: 65.0928 - accuracy: 0.8787\n"
     ]
    },
    {
     "data": {
      "text/plain": [
       "[65.09278106689453, 0.8787000179290771]"
      ]
     },
     "execution_count": 81,
     "metadata": {},
     "output_type": "execute_result"
    }
   ],
   "source": [
    "model.evaluate(X_test, y_test)"
   ]
  },
  {
   "cell_type": "code",
   "execution_count": null,
   "metadata": {},
   "outputs": [],
   "source": []
  },
  {
   "cell_type": "markdown",
   "metadata": {},
   "source": [
    "## Section 3 (3rd Commitee)"
   ]
  },
  {
   "cell_type": "markdown",
   "metadata": {},
   "source": [
    "### Tunning the learning rate"
   ]
  },
  {
   "cell_type": "markdown",
   "metadata": {},
   "source": [
    "### Part 1"
   ]
  },
  {
   "cell_type": "code",
   "execution_count": 99,
   "metadata": {},
   "outputs": [],
   "source": [
    "model = keras.models.Sequential()\n",
    "model.add(keras.layers.Flatten(input_shape=[28, 28]))\n",
    "model.add(keras.layers.Dense(450, activation=\"relu\"))\n",
    "model.add(keras.layers.Dense(200, activation=\"relu\"))\n",
    "model.add(keras.layers.Dense(10, activation=\"softmax\"))"
   ]
  },
  {
   "cell_type": "code",
   "execution_count": 100,
   "metadata": {},
   "outputs": [
    {
     "name": "stdout",
     "output_type": "stream",
     "text": [
      "Model: \"sequential_16\"\n",
      "_________________________________________________________________\n",
      " Layer (type)                Output Shape              Param #   \n",
      "=================================================================\n",
      " flatten_16 (Flatten)        (None, 784)               0         \n",
      "                                                                 \n",
      " dense_48 (Dense)            (None, 450)               353250    \n",
      "                                                                 \n",
      " dense_49 (Dense)            (None, 200)               90200     \n",
      "                                                                 \n",
      " dense_50 (Dense)            (None, 10)                2010      \n",
      "                                                                 \n",
      "=================================================================\n",
      "Total params: 445,460\n",
      "Trainable params: 445,460\n",
      "Non-trainable params: 0\n",
      "_________________________________________________________________\n"
     ]
    }
   ],
   "source": [
    "model.summary() "
   ]
  },
  {
   "cell_type": "markdown",
   "metadata": {},
   "source": [
    "#### learning_rate=0.06"
   ]
  },
  {
   "cell_type": "code",
   "execution_count": 101,
   "metadata": {},
   "outputs": [],
   "source": [
    "model.compile(loss=\"sparse_categorical_crossentropy\", optimizer= keras.optimizers.SGD(learning_rate=0.06), metrics=[\"accuracy\"])"
   ]
  },
  {
   "cell_type": "code",
   "execution_count": 102,
   "metadata": {},
   "outputs": [
    {
     "name": "stdout",
     "output_type": "stream",
     "text": [
      "Epoch 1/20\n",
      "1719/1719 [==============================] - 9s 5ms/step - loss: 0.5398 - accuracy: 0.8074 - val_loss: 0.4167 - val_accuracy: 0.8532\n",
      "Epoch 2/20\n",
      "1719/1719 [==============================] - 8s 5ms/step - loss: 0.3911 - accuracy: 0.8574 - val_loss: 0.3474 - val_accuracy: 0.8766\n",
      "Epoch 3/20\n",
      "1719/1719 [==============================] - 8s 5ms/step - loss: 0.3516 - accuracy: 0.8706 - val_loss: 0.3372 - val_accuracy: 0.8786\n",
      "Epoch 4/20\n",
      "1719/1719 [==============================] - 8s 5ms/step - loss: 0.3257 - accuracy: 0.8782 - val_loss: 0.3395 - val_accuracy: 0.8762\n",
      "Epoch 5/20\n",
      "1719/1719 [==============================] - 9s 5ms/step - loss: 0.3027 - accuracy: 0.8874 - val_loss: 0.3251 - val_accuracy: 0.8794\n",
      "Epoch 6/20\n",
      "1719/1719 [==============================] - 9s 5ms/step - loss: 0.2885 - accuracy: 0.8922 - val_loss: 0.3231 - val_accuracy: 0.8814\n",
      "Epoch 7/20\n",
      "1719/1719 [==============================] - 10s 6ms/step - loss: 0.2744 - accuracy: 0.8978 - val_loss: 0.3219 - val_accuracy: 0.8828\n",
      "Epoch 8/20\n",
      "1719/1719 [==============================] - 10s 6ms/step - loss: 0.2620 - accuracy: 0.9022 - val_loss: 0.2889 - val_accuracy: 0.8944\n",
      "Epoch 9/20\n",
      "1719/1719 [==============================] - 9s 5ms/step - loss: 0.2515 - accuracy: 0.9055 - val_loss: 0.3121 - val_accuracy: 0.8880\n",
      "Epoch 10/20\n",
      "1719/1719 [==============================] - 9s 5ms/step - loss: 0.2407 - accuracy: 0.9095 - val_loss: 0.3042 - val_accuracy: 0.8908\n",
      "Epoch 11/20\n",
      "1719/1719 [==============================] - 10s 6ms/step - loss: 0.2327 - accuracy: 0.9126 - val_loss: 0.2985 - val_accuracy: 0.8912\n",
      "Epoch 12/20\n",
      "1719/1719 [==============================] - 11s 6ms/step - loss: 0.2233 - accuracy: 0.9167 - val_loss: 0.4117 - val_accuracy: 0.8538\n",
      "Epoch 13/20\n",
      "1719/1719 [==============================] - 10s 6ms/step - loss: 0.2148 - accuracy: 0.9209 - val_loss: 0.3004 - val_accuracy: 0.8952\n",
      "Epoch 14/20\n",
      "1719/1719 [==============================] - 10s 6ms/step - loss: 0.2080 - accuracy: 0.9217 - val_loss: 0.2862 - val_accuracy: 0.8954\n",
      "Epoch 15/20\n",
      "1719/1719 [==============================] - 9s 5ms/step - loss: 0.2003 - accuracy: 0.9247 - val_loss: 0.2856 - val_accuracy: 0.8988\n",
      "Epoch 16/20\n",
      "1719/1719 [==============================] - 11s 6ms/step - loss: 0.1939 - accuracy: 0.9281 - val_loss: 0.2921 - val_accuracy: 0.8978\n",
      "Epoch 17/20\n",
      "1719/1719 [==============================] - 12s 7ms/step - loss: 0.1881 - accuracy: 0.9294 - val_loss: 0.2854 - val_accuracy: 0.9004\n",
      "Epoch 18/20\n",
      "1719/1719 [==============================] - 11s 6ms/step - loss: 0.1810 - accuracy: 0.9322 - val_loss: 0.2795 - val_accuracy: 0.9056\n",
      "Epoch 19/20\n",
      "1719/1719 [==============================] - 11s 6ms/step - loss: 0.1741 - accuracy: 0.9349 - val_loss: 0.3165 - val_accuracy: 0.8842\n",
      "Epoch 20/20\n",
      "1719/1719 [==============================] - 9s 5ms/step - loss: 0.1693 - accuracy: 0.9361 - val_loss: 0.2995 - val_accuracy: 0.8970\n"
     ]
    }
   ],
   "source": [
    "history = model.fit(X_train, y_train, epochs=20, validation_data=(X_valid, y_valid))"
   ]
  },
  {
   "cell_type": "code",
   "execution_count": 103,
   "metadata": {},
   "outputs": [
    {
     "name": "stdout",
     "output_type": "stream",
     "text": [
      "313/313 [==============================] - 1s 3ms/step - loss: 59.7804 - accuracy: 0.8623\n"
     ]
    },
    {
     "data": {
      "text/plain": [
       "[59.7803955078125, 0.8622999787330627]"
      ]
     },
     "execution_count": 103,
     "metadata": {},
     "output_type": "execute_result"
    }
   ],
   "source": [
    "model.evaluate(X_test, y_test)"
   ]
  },
  {
   "cell_type": "code",
   "execution_count": null,
   "metadata": {},
   "outputs": [],
   "source": []
  },
  {
   "cell_type": "markdown",
   "metadata": {},
   "source": [
    "### Part 2"
   ]
  },
  {
   "cell_type": "code",
   "execution_count": 114,
   "metadata": {},
   "outputs": [],
   "source": [
    "model = keras.models.Sequential()\n",
    "model.add(keras.layers.Flatten(input_shape=[28, 28]))\n",
    "model.add(keras.layers.Dense(450, activation=\"relu\"))\n",
    "model.add(keras.layers.Dense(200, activation=\"relu\"))\n",
    "model.add(keras.layers.Dense(10, activation=\"softmax\"))"
   ]
  },
  {
   "cell_type": "code",
   "execution_count": 115,
   "metadata": {},
   "outputs": [
    {
     "name": "stdout",
     "output_type": "stream",
     "text": [
      "Model: \"sequential_19\"\n",
      "_________________________________________________________________\n",
      " Layer (type)                Output Shape              Param #   \n",
      "=================================================================\n",
      " flatten_19 (Flatten)        (None, 784)               0         \n",
      "                                                                 \n",
      " dense_57 (Dense)            (None, 450)               353250    \n",
      "                                                                 \n",
      " dense_58 (Dense)            (None, 200)               90200     \n",
      "                                                                 \n",
      " dense_59 (Dense)            (None, 10)                2010      \n",
      "                                                                 \n",
      "=================================================================\n",
      "Total params: 445,460\n",
      "Trainable params: 445,460\n",
      "Non-trainable params: 0\n",
      "_________________________________________________________________\n"
     ]
    }
   ],
   "source": [
    "model.summary() "
   ]
  },
  {
   "cell_type": "markdown",
   "metadata": {},
   "source": [
    "#### learning_rate=0.10"
   ]
  },
  {
   "cell_type": "code",
   "execution_count": 116,
   "metadata": {},
   "outputs": [],
   "source": [
    "# Default learning rate (0.01)\n",
    "model.compile(loss=\"sparse_categorical_crossentropy\", optimizer= keras.optimizers.SGD(learning_rate=0.10), metrics=[\"accuracy\"])"
   ]
  },
  {
   "cell_type": "code",
   "execution_count": 117,
   "metadata": {},
   "outputs": [
    {
     "name": "stdout",
     "output_type": "stream",
     "text": [
      "Epoch 1/20\n",
      "1719/1719 [==============================] - 14s 8ms/step - loss: 0.6878 - accuracy: 0.7770 - val_loss: 0.5294 - val_accuracy: 0.8124\n",
      "Epoch 2/20\n",
      "1719/1719 [==============================] - 14s 8ms/step - loss: 0.4775 - accuracy: 0.8339 - val_loss: 0.4549 - val_accuracy: 0.8388\n",
      "Epoch 3/20\n",
      "1719/1719 [==============================] - 13s 8ms/step - loss: 0.4349 - accuracy: 0.8469 - val_loss: 0.4056 - val_accuracy: 0.8590\n",
      "Epoch 4/20\n",
      "1719/1719 [==============================] - 14s 8ms/step - loss: 0.4076 - accuracy: 0.8577 - val_loss: 0.3931 - val_accuracy: 0.8654\n",
      "Epoch 5/20\n",
      "1719/1719 [==============================] - 16s 9ms/step - loss: 0.3873 - accuracy: 0.8633 - val_loss: 0.3980 - val_accuracy: 0.8606\n",
      "Epoch 6/20\n",
      "1719/1719 [==============================] - 14s 8ms/step - loss: 0.3719 - accuracy: 0.8692 - val_loss: 0.3630 - val_accuracy: 0.8734\n",
      "Epoch 7/20\n",
      "1719/1719 [==============================] - 14s 8ms/step - loss: 0.3577 - accuracy: 0.8735 - val_loss: 0.3540 - val_accuracy: 0.8778\n",
      "Epoch 8/20\n",
      "1719/1719 [==============================] - 13s 8ms/step - loss: 0.3467 - accuracy: 0.8770 - val_loss: 0.3422 - val_accuracy: 0.8780\n",
      "Epoch 9/20\n",
      "1719/1719 [==============================] - 14s 8ms/step - loss: 0.3373 - accuracy: 0.8796 - val_loss: 0.3491 - val_accuracy: 0.8764\n",
      "Epoch 10/20\n",
      "1719/1719 [==============================] - 15s 9ms/step - loss: 0.3275 - accuracy: 0.8835 - val_loss: 0.3330 - val_accuracy: 0.8804\n",
      "Epoch 11/20\n",
      "1719/1719 [==============================] - 17s 10ms/step - loss: 0.3187 - accuracy: 0.8861 - val_loss: 0.3315 - val_accuracy: 0.8858\n",
      "Epoch 12/20\n",
      "1719/1719 [==============================] - 16s 10ms/step - loss: 0.3116 - accuracy: 0.8885 - val_loss: 0.3357 - val_accuracy: 0.8804\n",
      "Epoch 13/20\n",
      "1719/1719 [==============================] - 20s 11ms/step - loss: 0.3032 - accuracy: 0.8916 - val_loss: 0.3191 - val_accuracy: 0.8882\n",
      "Epoch 14/20\n",
      "1719/1719 [==============================] - 15s 9ms/step - loss: 0.2975 - accuracy: 0.8939 - val_loss: 0.3234 - val_accuracy: 0.8864\n",
      "Epoch 15/20\n",
      "1719/1719 [==============================] - 14s 8ms/step - loss: 0.2901 - accuracy: 0.8962 - val_loss: 0.3259 - val_accuracy: 0.8828\n",
      "Epoch 16/20\n",
      "1719/1719 [==============================] - 18s 11ms/step - loss: 0.2842 - accuracy: 0.8982 - val_loss: 0.3093 - val_accuracy: 0.8888\n",
      "Epoch 17/20\n",
      "1719/1719 [==============================] - 20s 11ms/step - loss: 0.2776 - accuracy: 0.8998 - val_loss: 0.3079 - val_accuracy: 0.8884\n",
      "Epoch 18/20\n",
      "1719/1719 [==============================] - 16s 9ms/step - loss: 0.2717 - accuracy: 0.9037 - val_loss: 0.3071 - val_accuracy: 0.8876\n",
      "Epoch 19/20\n",
      "1719/1719 [==============================] - 15s 9ms/step - loss: 0.2672 - accuracy: 0.9040 - val_loss: 0.3356 - val_accuracy: 0.8750\n",
      "Epoch 20/20\n",
      "1719/1719 [==============================] - 16s 9ms/step - loss: 0.2624 - accuracy: 0.9058 - val_loss: 0.2993 - val_accuracy: 0.8894\n"
     ]
    }
   ],
   "source": [
    "history = model.fit(X_train, y_train, epochs=20, validation_data=(X_valid, y_valid))"
   ]
  },
  {
   "cell_type": "code",
   "execution_count": 118,
   "metadata": {},
   "outputs": [
    {
     "name": "stdout",
     "output_type": "stream",
     "text": [
      "313/313 [==============================] - 2s 6ms/step - loss: 56.9927 - accuracy: 0.8526\n"
     ]
    },
    {
     "data": {
      "text/plain": [
       "[56.992733001708984, 0.8525999784469604]"
      ]
     },
     "execution_count": 118,
     "metadata": {},
     "output_type": "execute_result"
    }
   ],
   "source": [
    "model.evaluate(X_test, y_test) "
   ]
  },
  {
   "cell_type": "code",
   "execution_count": null,
   "metadata": {},
   "outputs": [],
   "source": []
  },
  {
   "cell_type": "markdown",
   "metadata": {},
   "source": [
    "### The End"
   ]
  }
 ],
 "metadata": {
  "colab": {
   "name": "NeuN_Part_I.ipynb",
   "provenance": []
  },
  "kernelspec": {
   "display_name": "Python 3 (ipykernel)",
   "language": "python",
   "name": "python3"
  },
  "language_info": {
   "codemirror_mode": {
    "name": "ipython",
    "version": 3
   },
   "file_extension": ".py",
   "mimetype": "text/x-python",
   "name": "python",
   "nbconvert_exporter": "python",
   "pygments_lexer": "ipython3",
   "version": "3.9.7"
  }
 },
 "nbformat": 4,
 "nbformat_minor": 1
}
